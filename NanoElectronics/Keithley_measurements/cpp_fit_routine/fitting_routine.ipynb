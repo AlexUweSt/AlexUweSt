{
  "nbformat": 4,
  "nbformat_minor": 0,
  "metadata": {
    "colab": {
      "name": "fitting_routine.ipynb",
      "version": "0.3.2",
      "provenance": []
    },
    "kernelspec": {
      "name": "python3",
      "display_name": "Python 3"
    }
  },
  "cells": [
    {
      "cell_type": "code",
      "metadata": {
        "id": "pPn8OTcFDz1H",
        "colab_type": "code",
        "colab": {}
      },
      "source": [
        "import numpy as np\n",
        "import pandas as pd\n",
        "from scipy.optimize import least_squares\n",
        "\n",
        "from collections import Counter\n",
        "from matplotlib import pyplot as plt\n",
        "% matplotlib inline"
      ],
      "execution_count": 0,
      "outputs": []
    },
    {
      "cell_type": "code",
      "metadata": {
        "id": "usM8mh_SH13G",
        "colab_type": "code",
        "colab": {}
      },
      "source": [
        "from scipy import integrate\n",
        "import numpy as np\n",
        "import matplotlib.pyplot as plt\n",
        "import pandas as pd\n",
        "\n",
        "\n",
        "def Fermi(E,mu):\n",
        "    b=40\n",
        "    fermival=1 / (1 + np.exp((E - mu) * b))\n",
        "    return fermival\n",
        "\n",
        "def Transmission(E,E0,Gamma1,Gamma2,V):\n",
        "    SumGammaSq=(Gamma1 + Gamma2)**2\n",
        "    E0split=(E - (E0 + ((Gamma1 - Gamma2) / (Gamma1 + Gamma2)) * V/2))**2\n",
        "    Transmissionval=(4* Gamma1*Gamma2)/(E0split + SumGammaSq)\n",
        "    return Transmissionval\n",
        "\n",
        "def Integrand(x,E0,G1,G2,V):\n",
        "    Integrand_val= Transmission(x,E0,G1,G2,V)*(Fermi(x,V/2)-Fermi(x,-V/2))\n",
        "    return Integrand_val\n",
        "\n",
        "def Integrate(E0,G1,G2,V):\n",
        "    y=lambda x:Integrand(x,E0,G1,G2,V)\n",
        "    result=integrate.quad(y, -2, 2)\n",
        "    return result\n",
        "    \n",
        "\n",
        "def Current(E0,G1,G2,V):\n",
        "    I=Integrate(E0,G1,G2,V)\n",
        "    return I[0]*float(7.74809174e-5)"
      ],
      "execution_count": 0,
      "outputs": []
    },
    {
      "cell_type": "code",
      "metadata": {
        "id": "Eoq4D16kKECZ",
        "colab_type": "code",
        "colab": {}
      },
      "source": [
        "def residual(params, bias, current):\n",
        "  return current - Current(params[0], params[1], params[2], bias)\n",
        "\n",
        "def dTddE(E0, G1, G2, V, E):\n",
        "  SumGammaSq=(G1 + G2)**2\n",
        "  E0split=(E - (E0 + ((G1 - G2) / (G1 + G2)) * V/2))\n",
        "  #Transmissionval=(4* Gamma1*Gamma2)/(E0split + SumGammaSq)\n",
        "  derivative = -(4* G1*G2)/((E0split**2 + SumGammaSq)**2)*2*E0split\n",
        "  return derivative\n",
        "\n",
        "def ddEdE0(E0, G1, G2, V, E):\n",
        "  return -1\n",
        "\n",
        "def dTdG1(E0, G1, G2, V, E):\n",
        "  SumGammaSq = (G1 + G2)**2\n",
        "  E0split = (E-(E0 + ((G1 - G2)/(G1 + G2))*V/2))**2\n",
        "  derivative = 4*G2/(E0split + SumGammaSq)\n",
        "  return derivative\n",
        "\n",
        "def dTdG2(E0, G1, G2, V, E):\n",
        "  SumGammaSq = (G1 + G2)**2\n",
        "  E0split = (E-(E0 + ((G1 - G2)/(G1 + G2))*V/2))**2\n",
        "  derivative = 4*G1/(E0split + SumGammaSq)\n",
        "  return derivative\n",
        "\n",
        "def dTdG(E0, G1, G2, V, E):\n",
        "  SumGamma = G1 + G2\n",
        "  E0split = (E-(E0 + ((G1 - G2)/SumGamma)*V/2))**2\n",
        "  derivative = -4*G1*G2/(E0split + SumGamma**2)**2 * 2*SumGamma\n",
        "  return derivative\n",
        "\n",
        "def dGdG1(E0, G1, G2, V, E):\n",
        "  return 1\n",
        "\n",
        "def dGdG2(E0, G1, G2, V, E):\n",
        "  return 1\n",
        "\n",
        "def ddEdG1(E0, G1, G2, V, E):\n",
        "  SumGamma = G1 + G2\n",
        "  return -G2*V/(SumGamma**2)\n",
        "\n",
        "def ddEdG2(E0, G1, G2, V ,E):\n",
        "  SumGamma = G1 + G2\n",
        "  return G1*V/(SumGamma**2)\n",
        "\n",
        "def current_gradient(params, bias, current):\n",
        "  full_dTdE0 = lambda x: dTddE(params[0], params[1], params[2], bias, x) * ddEdE0(params[0], params[1], params[2], bias, x)\n",
        "  full_dTdG1 = lambda x: (dTddE(params[0], params[1], params[2], bias, x) * ddEdG1(params[0], params[1], params[2], bias, x) +\n",
        "                          dTdG1(params[0], params[1], params[2], bias, x) +\n",
        "                          dTdG(params[0], params[1], params[2], bias, x)*dGdG1(params[0], params[1], params[2], bias, x))\n",
        "  full_dTdG2 = lambda x: (dTddE(params[0], params[1], params[2], bias, x) * ddEdG2(params[0], params[1], params[2], bias, x) +\n",
        "                          dTdG2(params[0], params[1], params[2], bias, x) +\n",
        "                          dTdG(params[0], params[1], params[2], bias, x)*dGdG2(params[0], params[1], params[2], bias, x))\n",
        "  full_dIdE0 = integrate.quad(lambda x: full_dTdE0(x)*(Fermi(x, bias/2)-Fermi(x, -bias/2)), -2, 2)[0] * float(7.74809174e-5)\n",
        "  full_dIdG1 = integrate.quad(lambda x: full_dTdG1(x)*(Fermi(x, bias/2)-Fermi(x, -bias/2)), -2, 2)[0] * float(7.74809174e-5)\n",
        "  full_dIdG2 = integrate.quad(lambda x: full_dTdG2(x)*(Fermi(x, bias/2)-Fermi(x, -bias/2)), -2, 2)[0] * float(7.74809174e-5)\n",
        "  return full_dIdE0, full_dIdG1, full_dIdG2\n",
        "\n",
        "                         "
      ],
      "execution_count": 0,
      "outputs": []
    },
    {
      "cell_type": "code",
      "metadata": {
        "id": "VEeBcUyYFbJP",
        "colab_type": "code",
        "colab": {}
      },
      "source": [
        "class TransmissionCalculator():\n",
        "  def __init__(V):\n",
        "    self.V = V\n",
        "    self.Add = 0\n",
        "    self.SumGamma = 0\n",
        "    self.E0split = 0\n",
        "    self.denominator = 0\n",
        "    \n",
        "  def _forward(self, E0, G1, G2):\n",
        "    self.E0 = E0\n",
        "    self.G1 = G1\n",
        "    self.G2 = G2\n",
        "    self.SumGamma = G1 + G2\n",
        "    self.prod4 = 4*G1*G2\n",
        "    self.SumGammaSq = self.SumGamma**2\n",
        "    self.Add = E0 + ((G1 - G2)/SumGamma)*V/2\n",
        "    return (lambda x: self.prod4/((x-self.Add)**2 + self.SumGammaSq))\n",
        "  \n",
        "  def _backward(self):\n",
        "    dTddE = lambda x: -(self.prod4/((x-self.Add)**2 + self.SumGammaSq)**2) * 2 * (x - self.Add)\n",
        "    dTdG = lambda x: 4*self.G1*self.G2/ ((x - self.Add)**2 + self.SumGammaSq)**2 * 2 * self.SumGamma\n",
        "    dTdG1 = lambda x: 4*self.G2 / ((x - self.Add)**2 + self.SumGammaSq) + dTdG(x)\n",
        "    dTdG2 = lambda x: 4*self.G1 / ((x - self.Add)) + dTdG(x)\n",
        "    return dTddE, dTdG1, dTdG2\n",
        "  \n",
        "  def get_forward(self):\n",
        "    return np.vectorize(self._forward)\n",
        "  "
      ],
      "execution_count": 0,
      "outputs": []
    },
    {
      "cell_type": "code",
      "metadata": {
        "id": "NcalfgxvFBUJ",
        "colab_type": "code",
        "colab": {}
      },
      "source": [
        "class CurrentCalculator():\n",
        "  def __init__(V):\n",
        "    self.V = V\n",
        "    self.T = TransmissionCalculator(V)\n",
        "    \n",
        "  def _forward(self, E0, G1, G2):\n",
        "    T_val = self.T.forward(E0, G1, G2)\n",
        "    Integrand_val = lambda x: T_val(x)*(Fermi(x,V/2)-Fermi(x,-V/2))\n",
        "    return integrate.quad(Integrand_val, -2, 2)\n",
        "              \n",
        "  def _backward(self):\n",
        "    dTddE, dTdG1, dTdG2 = self.T.backward()\n",
        "    full_dE0 = lambda x: -dTddE(x)*(Fermi(x,V/2)-Fermi(x,-V/2))\n",
        "    add_mult = dTddE*self.V/self.T.SumGammaSq\n",
        "    full_dG1 = lambda x: (dTdG1 - add_mult * self.T.G2)*(Fermi(x,V/2)-Fermi(x,-V/2))\n",
        "    full_dG2 = lambda x: (dTdG2 + add_mult * self.T.G1)*(Fermi(x,V/2)-Fermi(x,-V/2))\n",
        "    return integrate.quad(full_dE0, -2, 2), integrate.quad(full_dG1, -2, 2), integrate.quad(full_dG2, -2, 2)\n",
        "                                                        \n",
        "    "
      ],
      "execution_count": 0,
      "outputs": []
    },
    {
      "cell_type": "code",
      "metadata": {
        "id": "f64sw7SpVOhw",
        "colab_type": "code",
        "outputId": "d6d0fe8d-6980-474c-fd9f-664748af0195",
        "colab": {
          "base_uri": "https://localhost:8080/",
          "height": 51
        }
      },
      "source": [
        "from google.colab import drive\n",
        "drive.mount('/gdrive')\n",
        "%cd '/gdrive/My Drive/molecular electronics'"
      ],
      "execution_count": 0,
      "outputs": [
        {
          "output_type": "stream",
          "text": [
            "Drive already mounted at /gdrive; to attempt to forcibly remount, call drive.mount(\"/gdrive\", force_remount=True).\n",
            "/gdrive/My Drive/molecular electronics\n"
          ],
          "name": "stdout"
        }
      ]
    },
    {
      "cell_type": "code",
      "metadata": {
        "id": "1aJOSt_HW8dh",
        "colab_type": "code",
        "colab": {}
      },
      "source": [
        "PATH_TO_FILE = 'C60/000001.txt'"
      ],
      "execution_count": 0,
      "outputs": []
    },
    {
      "cell_type": "code",
      "metadata": {
        "id": "ZCiZXwuCWaqS",
        "colab_type": "code",
        "colab": {}
      },
      "source": [
        "data = pd.read_csv(PATH_TO_FILE, comment = '#', header = None, delimiter='\\t')"
      ],
      "execution_count": 0,
      "outputs": []
    },
    {
      "cell_type": "code",
      "metadata": {
        "id": "Pe43pJaAZAtI",
        "colab_type": "code",
        "outputId": "05bf4cef-91c1-4b83-d28c-9fff8c942625",
        "colab": {
          "base_uri": "https://localhost:8080/",
          "height": 119
        }
      },
      "source": [
        "data[400:1200][0].head()"
      ],
      "execution_count": 0,
      "outputs": [
        {
          "output_type": "execute_result",
          "data": {
            "text/plain": [
              "400    2.000060\n",
              "401    1.995072\n",
              "402    1.990015\n",
              "403    1.985029\n",
              "404    1.980106\n",
              "Name: 0, dtype: float64"
            ]
          },
          "metadata": {
            "tags": []
          },
          "execution_count": 84
        }
      ]
    },
    {
      "cell_type": "code",
      "metadata": {
        "id": "hFki4YWKg8Rb",
        "colab_type": "code",
        "colab": {}
      },
      "source": [
        "vec_residual = np.vectorize(residual, excluded = [0])"
      ],
      "execution_count": 0,
      "outputs": []
    },
    {
      "cell_type": "code",
      "metadata": {
        "id": "nJVOb_zrPGAN",
        "colab_type": "code",
        "outputId": "8af8e6f1-bbed-4fb2-d09a-ff8cae20b1f6",
        "colab": {
          "base_uri": "https://localhost:8080/",
          "height": 446
        }
      },
      "source": [
        "%time result = least_squares(fun=np.vectorize(residual, excluded = [0]), jac=lambda params, bias, current: np.transpose(np.vectorize(current_gradient, excluded = [0])(params, bias, current)),  x0=[0.5, 5e-3, 5e-3], ftol = 1e-12, gtol = 1e-12, xtol = 1e-12, method = 'lm', args = (data[400:1200][0],data[400:1200][1]))"
      ],
      "execution_count": 0,
      "outputs": [
        {
          "output_type": "stream",
          "text": [
            "/usr/local/lib/python3.6/dist-packages/ipykernel_launcher.py:54: IntegrationWarning: The integral is probably divergent, or slowly convergent.\n"
          ],
          "name": "stderr"
        },
        {
          "output_type": "error",
          "ename": "ValueError",
          "evalue": "ignored",
          "traceback": [
            "\u001b[0;31m---------------------------------------------------------------------------\u001b[0m",
            "\u001b[0;31mValueError\u001b[0m                                Traceback (most recent call last)",
            "\u001b[0;32m<ipython-input-87-3db5493069f7>\u001b[0m in \u001b[0;36m<module>\u001b[0;34m()\u001b[0m\n\u001b[0;32m----> 1\u001b[0;31m \u001b[0mget_ipython\u001b[0m\u001b[0;34m(\u001b[0m\u001b[0;34m)\u001b[0m\u001b[0;34m.\u001b[0m\u001b[0mmagic\u001b[0m\u001b[0;34m(\u001b[0m\u001b[0;34m\"time result = least_squares(fun=np.vectorize(residual, excluded = [0]), jac=lambda params, bias, current: np.transpose(np.vectorize(current_gradient, excluded = [0])(params, bias, current)),  x0=[0.5, 5e-3, 5e-3], ftol = 1e-12, gtol = 1e-12, xtol = 1e-12, method = 'lm', args = (data[400:1200][0],data[400:1200][1]))\"\u001b[0m\u001b[0;34m)\u001b[0m\u001b[0;34m\u001b[0m\u001b[0;34m\u001b[0m\u001b[0m\n\u001b[0m",
            "\u001b[0;32m/usr/local/lib/python3.6/dist-packages/IPython/core/interactiveshell.py\u001b[0m in \u001b[0;36mmagic\u001b[0;34m(self, arg_s)\u001b[0m\n\u001b[1;32m   2158\u001b[0m         \u001b[0mmagic_name\u001b[0m\u001b[0;34m,\u001b[0m \u001b[0m_\u001b[0m\u001b[0;34m,\u001b[0m \u001b[0mmagic_arg_s\u001b[0m \u001b[0;34m=\u001b[0m \u001b[0marg_s\u001b[0m\u001b[0;34m.\u001b[0m\u001b[0mpartition\u001b[0m\u001b[0;34m(\u001b[0m\u001b[0;34m' '\u001b[0m\u001b[0;34m)\u001b[0m\u001b[0;34m\u001b[0m\u001b[0;34m\u001b[0m\u001b[0m\n\u001b[1;32m   2159\u001b[0m         \u001b[0mmagic_name\u001b[0m \u001b[0;34m=\u001b[0m \u001b[0mmagic_name\u001b[0m\u001b[0;34m.\u001b[0m\u001b[0mlstrip\u001b[0m\u001b[0;34m(\u001b[0m\u001b[0mprefilter\u001b[0m\u001b[0;34m.\u001b[0m\u001b[0mESC_MAGIC\u001b[0m\u001b[0;34m)\u001b[0m\u001b[0;34m\u001b[0m\u001b[0;34m\u001b[0m\u001b[0m\n\u001b[0;32m-> 2160\u001b[0;31m         \u001b[0;32mreturn\u001b[0m \u001b[0mself\u001b[0m\u001b[0;34m.\u001b[0m\u001b[0mrun_line_magic\u001b[0m\u001b[0;34m(\u001b[0m\u001b[0mmagic_name\u001b[0m\u001b[0;34m,\u001b[0m \u001b[0mmagic_arg_s\u001b[0m\u001b[0;34m)\u001b[0m\u001b[0;34m\u001b[0m\u001b[0;34m\u001b[0m\u001b[0m\n\u001b[0m\u001b[1;32m   2161\u001b[0m \u001b[0;34m\u001b[0m\u001b[0m\n\u001b[1;32m   2162\u001b[0m     \u001b[0;31m#-------------------------------------------------------------------------\u001b[0m\u001b[0;34m\u001b[0m\u001b[0;34m\u001b[0m\u001b[0;34m\u001b[0m\u001b[0m\n",
            "\u001b[0;32m/usr/local/lib/python3.6/dist-packages/IPython/core/interactiveshell.py\u001b[0m in \u001b[0;36mrun_line_magic\u001b[0;34m(self, magic_name, line)\u001b[0m\n\u001b[1;32m   2079\u001b[0m                 \u001b[0mkwargs\u001b[0m\u001b[0;34m[\u001b[0m\u001b[0;34m'local_ns'\u001b[0m\u001b[0;34m]\u001b[0m \u001b[0;34m=\u001b[0m \u001b[0msys\u001b[0m\u001b[0;34m.\u001b[0m\u001b[0m_getframe\u001b[0m\u001b[0;34m(\u001b[0m\u001b[0mstack_depth\u001b[0m\u001b[0;34m)\u001b[0m\u001b[0;34m.\u001b[0m\u001b[0mf_locals\u001b[0m\u001b[0;34m\u001b[0m\u001b[0;34m\u001b[0m\u001b[0m\n\u001b[1;32m   2080\u001b[0m             \u001b[0;32mwith\u001b[0m \u001b[0mself\u001b[0m\u001b[0;34m.\u001b[0m\u001b[0mbuiltin_trap\u001b[0m\u001b[0;34m:\u001b[0m\u001b[0;34m\u001b[0m\u001b[0;34m\u001b[0m\u001b[0m\n\u001b[0;32m-> 2081\u001b[0;31m                 \u001b[0mresult\u001b[0m \u001b[0;34m=\u001b[0m \u001b[0mfn\u001b[0m\u001b[0;34m(\u001b[0m\u001b[0;34m*\u001b[0m\u001b[0margs\u001b[0m\u001b[0;34m,\u001b[0m\u001b[0;34m**\u001b[0m\u001b[0mkwargs\u001b[0m\u001b[0;34m)\u001b[0m\u001b[0;34m\u001b[0m\u001b[0;34m\u001b[0m\u001b[0m\n\u001b[0m\u001b[1;32m   2082\u001b[0m             \u001b[0;32mreturn\u001b[0m \u001b[0mresult\u001b[0m\u001b[0;34m\u001b[0m\u001b[0;34m\u001b[0m\u001b[0m\n\u001b[1;32m   2083\u001b[0m \u001b[0;34m\u001b[0m\u001b[0m\n",
            "\u001b[0;32m</usr/local/lib/python3.6/dist-packages/decorator.py:decorator-gen-60>\u001b[0m in \u001b[0;36mtime\u001b[0;34m(self, line, cell, local_ns)\u001b[0m\n",
            "\u001b[0;32m/usr/local/lib/python3.6/dist-packages/IPython/core/magic.py\u001b[0m in \u001b[0;36m<lambda>\u001b[0;34m(f, *a, **k)\u001b[0m\n\u001b[1;32m    186\u001b[0m     \u001b[0;31m# but it's overkill for just that one bit of state.\u001b[0m\u001b[0;34m\u001b[0m\u001b[0;34m\u001b[0m\u001b[0;34m\u001b[0m\u001b[0m\n\u001b[1;32m    187\u001b[0m     \u001b[0;32mdef\u001b[0m \u001b[0mmagic_deco\u001b[0m\u001b[0;34m(\u001b[0m\u001b[0marg\u001b[0m\u001b[0;34m)\u001b[0m\u001b[0;34m:\u001b[0m\u001b[0;34m\u001b[0m\u001b[0;34m\u001b[0m\u001b[0m\n\u001b[0;32m--> 188\u001b[0;31m         \u001b[0mcall\u001b[0m \u001b[0;34m=\u001b[0m \u001b[0;32mlambda\u001b[0m \u001b[0mf\u001b[0m\u001b[0;34m,\u001b[0m \u001b[0;34m*\u001b[0m\u001b[0ma\u001b[0m\u001b[0;34m,\u001b[0m \u001b[0;34m**\u001b[0m\u001b[0mk\u001b[0m\u001b[0;34m:\u001b[0m \u001b[0mf\u001b[0m\u001b[0;34m(\u001b[0m\u001b[0;34m*\u001b[0m\u001b[0ma\u001b[0m\u001b[0;34m,\u001b[0m \u001b[0;34m**\u001b[0m\u001b[0mk\u001b[0m\u001b[0;34m)\u001b[0m\u001b[0;34m\u001b[0m\u001b[0;34m\u001b[0m\u001b[0m\n\u001b[0m\u001b[1;32m    189\u001b[0m \u001b[0;34m\u001b[0m\u001b[0m\n\u001b[1;32m    190\u001b[0m         \u001b[0;32mif\u001b[0m \u001b[0mcallable\u001b[0m\u001b[0;34m(\u001b[0m\u001b[0marg\u001b[0m\u001b[0;34m)\u001b[0m\u001b[0;34m:\u001b[0m\u001b[0;34m\u001b[0m\u001b[0;34m\u001b[0m\u001b[0m\n",
            "\u001b[0;32m/usr/local/lib/python3.6/dist-packages/IPython/core/magics/execution.py\u001b[0m in \u001b[0;36mtime\u001b[0;34m(self, line, cell, local_ns)\u001b[0m\n\u001b[1;32m   1191\u001b[0m         \u001b[0;32melse\u001b[0m\u001b[0;34m:\u001b[0m\u001b[0;34m\u001b[0m\u001b[0;34m\u001b[0m\u001b[0m\n\u001b[1;32m   1192\u001b[0m             \u001b[0mst\u001b[0m \u001b[0;34m=\u001b[0m \u001b[0mclock2\u001b[0m\u001b[0;34m(\u001b[0m\u001b[0;34m)\u001b[0m\u001b[0;34m\u001b[0m\u001b[0;34m\u001b[0m\u001b[0m\n\u001b[0;32m-> 1193\u001b[0;31m             \u001b[0mexec\u001b[0m\u001b[0;34m(\u001b[0m\u001b[0mcode\u001b[0m\u001b[0;34m,\u001b[0m \u001b[0mglob\u001b[0m\u001b[0;34m,\u001b[0m \u001b[0mlocal_ns\u001b[0m\u001b[0;34m)\u001b[0m\u001b[0;34m\u001b[0m\u001b[0;34m\u001b[0m\u001b[0m\n\u001b[0m\u001b[1;32m   1194\u001b[0m             \u001b[0mend\u001b[0m \u001b[0;34m=\u001b[0m \u001b[0mclock2\u001b[0m\u001b[0;34m(\u001b[0m\u001b[0;34m)\u001b[0m\u001b[0;34m\u001b[0m\u001b[0;34m\u001b[0m\u001b[0m\n\u001b[1;32m   1195\u001b[0m             \u001b[0mout\u001b[0m \u001b[0;34m=\u001b[0m \u001b[0;32mNone\u001b[0m\u001b[0;34m\u001b[0m\u001b[0;34m\u001b[0m\u001b[0m\n",
            "\u001b[0;32m<timed exec>\u001b[0m in \u001b[0;36m<module>\u001b[0;34m()\u001b[0m\n",
            "\u001b[0;32m/usr/local/lib/python3.6/dist-packages/scipy/optimize/_lsq/least_squares.py\u001b[0m in \u001b[0;36mleast_squares\u001b[0;34m(fun, x0, jac, bounds, method, ftol, xtol, gtol, x_scale, loss, f_scale, diff_step, tr_solver, tr_options, jac_sparsity, max_nfev, verbose, args, kwargs)\u001b[0m\n\u001b[1;32m    833\u001b[0m \u001b[0;34m\u001b[0m\u001b[0m\n\u001b[1;32m    834\u001b[0m     \u001b[0;32mif\u001b[0m \u001b[0mcallable\u001b[0m\u001b[0;34m(\u001b[0m\u001b[0mjac\u001b[0m\u001b[0;34m)\u001b[0m\u001b[0;34m:\u001b[0m\u001b[0;34m\u001b[0m\u001b[0;34m\u001b[0m\u001b[0m\n\u001b[0;32m--> 835\u001b[0;31m         \u001b[0mJ0\u001b[0m \u001b[0;34m=\u001b[0m \u001b[0mjac\u001b[0m\u001b[0;34m(\u001b[0m\u001b[0mx0\u001b[0m\u001b[0;34m,\u001b[0m \u001b[0;34m*\u001b[0m\u001b[0margs\u001b[0m\u001b[0;34m,\u001b[0m \u001b[0;34m**\u001b[0m\u001b[0mkwargs\u001b[0m\u001b[0;34m)\u001b[0m\u001b[0;34m\u001b[0m\u001b[0;34m\u001b[0m\u001b[0m\n\u001b[0m\u001b[1;32m    836\u001b[0m \u001b[0;34m\u001b[0m\u001b[0m\n\u001b[1;32m    837\u001b[0m         \u001b[0;32mif\u001b[0m \u001b[0missparse\u001b[0m\u001b[0;34m(\u001b[0m\u001b[0mJ0\u001b[0m\u001b[0;34m)\u001b[0m\u001b[0;34m:\u001b[0m\u001b[0;34m\u001b[0m\u001b[0;34m\u001b[0m\u001b[0m\n",
            "\u001b[0;32m<timed exec>\u001b[0m in \u001b[0;36m<lambda>\u001b[0;34m(params, bias, current)\u001b[0m\n",
            "\u001b[0;32m/usr/local/lib/python3.6/dist-packages/numpy/lib/function_base.py\u001b[0m in \u001b[0;36m__call__\u001b[0;34m(self, *args, **kwargs)\u001b[0m\n\u001b[1;32m   2089\u001b[0m             \u001b[0mvargs\u001b[0m\u001b[0;34m.\u001b[0m\u001b[0mextend\u001b[0m\u001b[0;34m(\u001b[0m\u001b[0;34m[\u001b[0m\u001b[0mkwargs\u001b[0m\u001b[0;34m[\u001b[0m\u001b[0m_n\u001b[0m\u001b[0;34m]\u001b[0m \u001b[0;32mfor\u001b[0m \u001b[0m_n\u001b[0m \u001b[0;32min\u001b[0m \u001b[0mnames\u001b[0m\u001b[0;34m]\u001b[0m\u001b[0;34m)\u001b[0m\u001b[0;34m\u001b[0m\u001b[0;34m\u001b[0m\u001b[0m\n\u001b[1;32m   2090\u001b[0m \u001b[0;34m\u001b[0m\u001b[0m\n\u001b[0;32m-> 2091\u001b[0;31m         \u001b[0;32mreturn\u001b[0m \u001b[0mself\u001b[0m\u001b[0;34m.\u001b[0m\u001b[0m_vectorize_call\u001b[0m\u001b[0;34m(\u001b[0m\u001b[0mfunc\u001b[0m\u001b[0;34m=\u001b[0m\u001b[0mfunc\u001b[0m\u001b[0;34m,\u001b[0m \u001b[0margs\u001b[0m\u001b[0;34m=\u001b[0m\u001b[0mvargs\u001b[0m\u001b[0;34m)\u001b[0m\u001b[0;34m\u001b[0m\u001b[0;34m\u001b[0m\u001b[0m\n\u001b[0m\u001b[1;32m   2092\u001b[0m \u001b[0;34m\u001b[0m\u001b[0m\n\u001b[1;32m   2093\u001b[0m     \u001b[0;32mdef\u001b[0m \u001b[0m_get_ufunc_and_otypes\u001b[0m\u001b[0;34m(\u001b[0m\u001b[0mself\u001b[0m\u001b[0;34m,\u001b[0m \u001b[0mfunc\u001b[0m\u001b[0;34m,\u001b[0m \u001b[0margs\u001b[0m\u001b[0;34m)\u001b[0m\u001b[0;34m:\u001b[0m\u001b[0;34m\u001b[0m\u001b[0;34m\u001b[0m\u001b[0m\n",
            "\u001b[0;32m/usr/local/lib/python3.6/dist-packages/numpy/lib/function_base.py\u001b[0m in \u001b[0;36m_vectorize_call\u001b[0;34m(self, func, args)\u001b[0m\n\u001b[1;32m   2168\u001b[0m \u001b[0;34m\u001b[0m\u001b[0m\n\u001b[1;32m   2169\u001b[0m             \u001b[0;32mif\u001b[0m \u001b[0mufunc\u001b[0m\u001b[0;34m.\u001b[0m\u001b[0mnout\u001b[0m \u001b[0;34m==\u001b[0m \u001b[0;36m1\u001b[0m\u001b[0;34m:\u001b[0m\u001b[0;34m\u001b[0m\u001b[0;34m\u001b[0m\u001b[0m\n\u001b[0;32m-> 2170\u001b[0;31m                 \u001b[0mres\u001b[0m \u001b[0;34m=\u001b[0m \u001b[0marray\u001b[0m\u001b[0;34m(\u001b[0m\u001b[0moutputs\u001b[0m\u001b[0;34m,\u001b[0m \u001b[0mcopy\u001b[0m\u001b[0;34m=\u001b[0m\u001b[0;32mFalse\u001b[0m\u001b[0;34m,\u001b[0m \u001b[0msubok\u001b[0m\u001b[0;34m=\u001b[0m\u001b[0;32mTrue\u001b[0m\u001b[0;34m,\u001b[0m \u001b[0mdtype\u001b[0m\u001b[0;34m=\u001b[0m\u001b[0motypes\u001b[0m\u001b[0;34m[\u001b[0m\u001b[0;36m0\u001b[0m\u001b[0;34m]\u001b[0m\u001b[0;34m)\u001b[0m\u001b[0;34m\u001b[0m\u001b[0;34m\u001b[0m\u001b[0m\n\u001b[0m\u001b[1;32m   2171\u001b[0m             \u001b[0;32melse\u001b[0m\u001b[0;34m:\u001b[0m\u001b[0;34m\u001b[0m\u001b[0;34m\u001b[0m\u001b[0m\n\u001b[1;32m   2172\u001b[0m                 res = tuple([array(x, copy=False, subok=True, dtype=t)\n",
            "\u001b[0;31mValueError\u001b[0m: setting an array element with a sequence."
          ]
        }
      ]
    },
    {
      "cell_type": "code",
      "metadata": {
        "id": "Oaysa87AgkW1",
        "colab_type": "code",
        "colab": {}
      },
      "source": [
        "import pickle"
      ],
      "execution_count": 0,
      "outputs": []
    },
    {
      "cell_type": "code",
      "metadata": {
        "id": "gc5OUmRwhg9u",
        "colab_type": "code",
        "colab": {}
      },
      "source": [
        "with open('results.pickle') as f:\n",
        "  pickle.dump(f, result)"
      ],
      "execution_count": 0,
      "outputs": []
    },
    {
      "cell_type": "code",
      "metadata": {
        "id": "ILhRc2C4hnCE",
        "colab_type": "code",
        "colab": {}
      },
      "source": [
        "def gradient_calculation(E, )"
      ],
      "execution_count": 0,
      "outputs": []
    }
  ]
}